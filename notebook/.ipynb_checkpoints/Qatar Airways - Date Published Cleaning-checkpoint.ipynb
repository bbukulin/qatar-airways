{
 "cells": [
  {
   "cell_type": "code",
   "execution_count": 1,
   "id": "04d26989",
   "metadata": {},
   "outputs": [],
   "source": [
    "import pandas as pd"
   ]
  },
  {
   "cell_type": "code",
   "execution_count": 2,
   "id": "f8017c07",
   "metadata": {},
   "outputs": [],
   "source": [
    "df = pd.read_csv(\"cleaned_qatar_airways_reviews.csv\")"
   ]
  },
  {
   "cell_type": "code",
   "execution_count": 7,
   "id": "3300ef15",
   "metadata": {},
   "outputs": [],
   "source": [
    "df['Date Published'] = pd.to_datetime(df['Date Published'])\n",
    "df['YearMonth'] = df['Date Published'].dt.to_period('M')"
   ]
  },
  {
   "cell_type": "code",
   "execution_count": 8,
   "id": "65f81c6d",
   "metadata": {},
   "outputs": [],
   "source": [
    "# Grupiranje po mjesecu i izračun prosječne ocjene\n",
    "monthly_avg = df.groupby('YearMonth')['Rating'].mean().reset_index()\n",
    "monthly_avg['YearMonth'] = monthly_avg['YearMonth'].astype(str)"
   ]
  },
  {
   "cell_type": "code",
   "execution_count": 9,
   "id": "425fc21b",
   "metadata": {},
   "outputs": [],
   "source": [
    "# Nova csv datoteka\n",
    "monthly_avg.to_csv('monthly_avg.csv', index=False)"
   ]
  }
 ],
 "metadata": {
  "kernelspec": {
   "display_name": "Python 3 (ipykernel)",
   "language": "python",
   "name": "python3"
  },
  "language_info": {
   "codemirror_mode": {
    "name": "ipython",
    "version": 3
   },
   "file_extension": ".py",
   "mimetype": "text/x-python",
   "name": "python",
   "nbconvert_exporter": "python",
   "pygments_lexer": "ipython3",
   "version": "3.11.5"
  }
 },
 "nbformat": 4,
 "nbformat_minor": 5
}
