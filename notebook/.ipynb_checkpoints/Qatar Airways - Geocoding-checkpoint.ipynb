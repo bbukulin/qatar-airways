{
 "cells": [
  {
   "cell_type": "code",
   "execution_count": 2,
   "id": "5f754799",
   "metadata": {},
   "outputs": [
    {
     "name": "stdout",
     "output_type": "stream",
     "text": [
      "Collecting geopy\n",
      "  Obtaining dependency information for geopy from https://files.pythonhosted.org/packages/e5/15/cf2a69ade4b194aa524ac75112d5caac37414b20a3a03e6865dfe0bd1539/geopy-2.4.1-py3-none-any.whl.metadata\n",
      "  Downloading geopy-2.4.1-py3-none-any.whl.metadata (6.8 kB)\n",
      "Collecting geographiclib<3,>=1.52 (from geopy)\n",
      "  Obtaining dependency information for geographiclib<3,>=1.52 from https://files.pythonhosted.org/packages/9f/5a/a26132406f1f40cf51ea349a5f11b0a46cec02a2031ff82e391c2537247a/geographiclib-2.0-py3-none-any.whl.metadata\n",
      "  Downloading geographiclib-2.0-py3-none-any.whl.metadata (1.4 kB)\n",
      "Downloading geopy-2.4.1-py3-none-any.whl (125 kB)\n",
      "   ---------------------------------------- 0.0/125.4 kB ? eta -:--:--\n",
      "   --- ------------------------------------ 10.2/125.4 kB ? eta -:--:--\n",
      "   --------- ----------------------------- 30.7/125.4 kB 435.7 kB/s eta 0:00:01\n",
      "   ------------------- ------------------- 61.4/125.4 kB 544.7 kB/s eta 0:00:01\n",
      "   -------------------------------------- 125.4/125.4 kB 921.6 kB/s eta 0:00:00\n",
      "Downloading geographiclib-2.0-py3-none-any.whl (40 kB)\n",
      "   ---------------------------------------- 0.0/40.3 kB ? eta -:--:--\n",
      "   ---------------------------------------- 40.3/40.3 kB 1.9 MB/s eta 0:00:00\n",
      "Installing collected packages: geographiclib, geopy\n",
      "Successfully installed geographiclib-2.0 geopy-2.4.1\n"
     ]
    }
   ],
   "source": [
    "!pip install geopy"
   ]
  },
  {
   "cell_type": "code",
   "execution_count": 3,
   "id": "7673fd78",
   "metadata": {},
   "outputs": [],
   "source": [
    "import pandas as pd\n",
    "from geopy.geocoders import Nominatim\n",
    "import time"
   ]
  },
  {
   "cell_type": "code",
   "execution_count": 10,
   "id": "962eceba",
   "metadata": {},
   "outputs": [],
   "source": [
    "data = pd.read_csv(\"cleaned_qatar_airways_reviews.csv\")"
   ]
  },
  {
   "cell_type": "code",
   "execution_count": 5,
   "id": "275c3475",
   "metadata": {},
   "outputs": [],
   "source": [
    "# Inicijalizacija geolokatora\n",
    "geolocator = Nominatim(user_agent=\"geoapiExercises\")"
   ]
  },
  {
   "cell_type": "code",
   "execution_count": 6,
   "id": "0fa54da4",
   "metadata": {},
   "outputs": [],
   "source": [
    "# Dohvaćanje koordinata\n",
    "def get_coordinates(city):\n",
    "    location = geolocator.geocode(city)\n",
    "    return (location.latitude, location.longitude) if location else (None, None)"
   ]
  },
  {
   "cell_type": "code",
   "execution_count": 11,
   "id": "993951f7",
   "metadata": {},
   "outputs": [],
   "source": [
    "# Jedinstvene vrijednosti gradova\n",
    "cities = pd.concat([data['From'], data['To'], data['Via']]).unique()"
   ]
  },
  {
   "cell_type": "code",
   "execution_count": 12,
   "id": "3c151650",
   "metadata": {},
   "outputs": [],
   "source": [
    "# Dohvaćanje koordinata za sve gradove\n",
    "coordinates = {}\n",
    "for city in cities:\n",
    "    coordinates[city] = get_coordinates(city)\n",
    "    time.sleep(1)  # Pauza kako ne bi preopteretili API"
   ]
  },
  {
   "cell_type": "code",
   "execution_count": 13,
   "id": "3e6ea3cc",
   "metadata": {},
   "outputs": [],
   "source": [
    "# Stvaranje dataframe-a s koordinatama\n",
    "coords_df = pd.DataFrame(coordinates).T.reset_index()\n",
    "coords_df.columns = ['City', 'Latitude', 'Longitude']"
   ]
  },
  {
   "cell_type": "code",
   "execution_count": 14,
   "id": "ea8aed37",
   "metadata": {},
   "outputs": [],
   "source": [
    "# Spajanje koordinata natrag u originalni dataset\n",
    "data = data.merge(coords_df, left_on='From', right_on='City').rename(columns={'Latitude': 'FromLat', 'Longitude': 'FromLon'}).drop('City', axis=1)\n",
    "data = data.merge(coords_df, left_on='To', right_on='City').rename(columns={'Latitude': 'ToLat', 'Longitude': 'ToLon'}).drop('City', axis=1)\n",
    "data = data.merge(coords_df, left_on='Via', right_on='City').rename(columns={'Latitude': 'ViaLat', 'Longitude': 'ViaLon'}).drop('City', axis=1)"
   ]
  },
  {
   "cell_type": "code",
   "execution_count": 15,
   "id": "37af35a8",
   "metadata": {},
   "outputs": [],
   "source": [
    "data.to_csv('cleaned_qatar_airways_reviews_with_coords.csv', index=False)"
   ]
  }
 ],
 "metadata": {
  "kernelspec": {
   "display_name": "Python 3 (ipykernel)",
   "language": "python",
   "name": "python3"
  },
  "language_info": {
   "codemirror_mode": {
    "name": "ipython",
    "version": 3
   },
   "file_extension": ".py",
   "mimetype": "text/x-python",
   "name": "python",
   "nbconvert_exporter": "python",
   "pygments_lexer": "ipython3",
   "version": "3.11.5"
  }
 },
 "nbformat": 4,
 "nbformat_minor": 5
}
